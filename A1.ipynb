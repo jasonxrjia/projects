{
 "cells": [
  {
   "cell_type": "code",
   "execution_count": 16,
   "id": "ea8aaa25",
   "metadata": {},
   "outputs": [],
   "source": [
    "import matplotlib.pyplot as plt\n",
    "import numpy as np\n",
    "import pandas as pd"
   ]
  },
  {
   "cell_type": "code",
   "execution_count": 21,
   "id": "b80da22f",
   "metadata": {},
   "outputs": [],
   "source": [
    "SPY = pd.read_csv('SPY.csv')\n",
    "JPM = pd.read_csv('JPM.csv')\n",
    "AAPL = pd.read_csv('AAPL.csv')"
   ]
  },
  {
   "cell_type": "markdown",
   "id": "45ece4a8-efc6-4aa0-b0f2-3b70e2a7992e",
   "metadata": {},
   "source": [
    "### Question 1"
   ]
  },
  {
   "cell_type": "code",
   "execution_count": 22,
   "id": "1fa678fb",
   "metadata": {},
   "outputs": [
    {
     "name": "stdout",
     "output_type": "stream",
     "text": [
      "         Date        Open        High         Low       Close   Adj Close  \\\n",
      "0  2017-08-18  242.899994  244.190002  242.199997  242.710007  220.612015   \n",
      "1  2017-08-21  242.639999  243.199997  241.830002  242.899994  220.784698   \n",
      "2  2017-08-22  243.570007  245.619995  243.550003  245.440002  223.093445   \n",
      "3  2017-08-23  244.330002  245.050003  244.160004  244.559998  222.293579   \n",
      "4  2017-08-24  245.000000  245.179993  243.750000  243.990005  221.775467   \n",
      "\n",
      "      Volume  \n",
      "0  136748000  \n",
      "1   65469700  \n",
      "2   63140100  \n",
      "3   50203800  \n",
      "4   50741700  \n"
     ]
    }
   ],
   "source": [
    "print(SPY.head(5))"
   ]
  },
  {
   "cell_type": "markdown",
   "id": "1ca6afe4-2ed4-4b6b-8c71-8191cf1d8b83",
   "metadata": {},
   "source": [
    "### Question 2"
   ]
  },
  {
   "cell_type": "code",
   "execution_count": 23,
   "id": "b5ec42c9",
   "metadata": {},
   "outputs": [],
   "source": [
    "companies = [SPY, AAPL, JPM]\n",
    "for C in companies:\n",
    "    C['Adj Close_previous'] = C['Adj Close'].shift(1)\n",
    "    C.dropna(inplace=True)\n",
    "    C['daily_return'] = (C['Adj Close']/C['Adj Close_previous'])-1"
   ]
  },
  {
   "cell_type": "code",
   "execution_count": 78,
   "id": "38e7030b",
   "metadata": {},
   "outputs": [
    {
     "data": {
      "text/html": [
       "<div>\n",
       "<style scoped>\n",
       "    .dataframe tbody tr th:only-of-type {\n",
       "        vertical-align: middle;\n",
       "    }\n",
       "\n",
       "    .dataframe tbody tr th {\n",
       "        vertical-align: top;\n",
       "    }\n",
       "\n",
       "    .dataframe thead th {\n",
       "        text-align: right;\n",
       "    }\n",
       "</style>\n",
       "<table border=\"1\" class=\"dataframe\">\n",
       "  <thead>\n",
       "    <tr style=\"text-align: right;\">\n",
       "      <th></th>\n",
       "      <th>Date</th>\n",
       "      <th>Open</th>\n",
       "      <th>High</th>\n",
       "      <th>Low</th>\n",
       "      <th>Close</th>\n",
       "      <th>Adj Close</th>\n",
       "      <th>Volume</th>\n",
       "      <th>Adj Close_previous</th>\n",
       "      <th>daily_return</th>\n",
       "    </tr>\n",
       "  </thead>\n",
       "  <tbody>\n",
       "    <tr>\n",
       "      <th>1</th>\n",
       "      <td>2017-08-21</td>\n",
       "      <td>39.375000</td>\n",
       "      <td>39.472500</td>\n",
       "      <td>38.777500</td>\n",
       "      <td>39.302502</td>\n",
       "      <td>37.238873</td>\n",
       "      <td>105474000</td>\n",
       "      <td>37.307556</td>\n",
       "      <td>-0.001841</td>\n",
       "    </tr>\n",
       "    <tr>\n",
       "      <th>2</th>\n",
       "      <td>2017-08-22</td>\n",
       "      <td>39.557499</td>\n",
       "      <td>40.000000</td>\n",
       "      <td>39.505001</td>\n",
       "      <td>39.945000</td>\n",
       "      <td>37.847633</td>\n",
       "      <td>86418400</td>\n",
       "      <td>37.238873</td>\n",
       "      <td>0.016347</td>\n",
       "    </tr>\n",
       "    <tr>\n",
       "      <th>3</th>\n",
       "      <td>2017-08-23</td>\n",
       "      <td>39.767502</td>\n",
       "      <td>40.117500</td>\n",
       "      <td>39.720001</td>\n",
       "      <td>39.994999</td>\n",
       "      <td>37.895008</td>\n",
       "      <td>77596400</td>\n",
       "      <td>37.847633</td>\n",
       "      <td>0.001252</td>\n",
       "    </tr>\n",
       "    <tr>\n",
       "      <th>4</th>\n",
       "      <td>2017-08-24</td>\n",
       "      <td>40.107498</td>\n",
       "      <td>40.185001</td>\n",
       "      <td>39.637501</td>\n",
       "      <td>39.817501</td>\n",
       "      <td>37.726822</td>\n",
       "      <td>79275600</td>\n",
       "      <td>37.895008</td>\n",
       "      <td>-0.004438</td>\n",
       "    </tr>\n",
       "    <tr>\n",
       "      <th>5</th>\n",
       "      <td>2017-08-25</td>\n",
       "      <td>39.912498</td>\n",
       "      <td>40.139999</td>\n",
       "      <td>39.817501</td>\n",
       "      <td>39.965000</td>\n",
       "      <td>37.866581</td>\n",
       "      <td>101920400</td>\n",
       "      <td>37.726822</td>\n",
       "      <td>0.003704</td>\n",
       "    </tr>\n",
       "  </tbody>\n",
       "</table>\n",
       "</div>"
      ],
      "text/plain": [
       "         Date       Open       High        Low      Close  Adj Close  \\\n",
       "1  2017-08-21  39.375000  39.472500  38.777500  39.302502  37.238873   \n",
       "2  2017-08-22  39.557499  40.000000  39.505001  39.945000  37.847633   \n",
       "3  2017-08-23  39.767502  40.117500  39.720001  39.994999  37.895008   \n",
       "4  2017-08-24  40.107498  40.185001  39.637501  39.817501  37.726822   \n",
       "5  2017-08-25  39.912498  40.139999  39.817501  39.965000  37.866581   \n",
       "\n",
       "      Volume  Adj Close_previous  daily_return  \n",
       "1  105474000           37.307556     -0.001841  \n",
       "2   86418400           37.238873      0.016347  \n",
       "3   77596400           37.847633      0.001252  \n",
       "4   79275600           37.895008     -0.004438  \n",
       "5  101920400           37.726822      0.003704  "
      ]
     },
     "execution_count": 78,
     "metadata": {},
     "output_type": "execute_result"
    }
   ],
   "source": [
    "AAPL.head()"
   ]
  },
  {
   "cell_type": "markdown",
   "id": "0a9f35a2-a25e-4559-9999-9f8aa0767b89",
   "metadata": {},
   "source": [
    "### Question 3"
   ]
  },
  {
   "cell_type": "code",
   "execution_count": 54,
   "id": "6703923f",
   "metadata": {
    "tags": []
   },
   "outputs": [
    {
     "name": "stdout",
     "output_type": "stream",
     "text": [
      "1.229421845908266\n"
     ]
    }
   ],
   "source": [
    "from sklearn.linear_model import LinearRegression\n",
    "lr = LinearRegression()\n",
    "lr.fit(SPY[['daily_return']], AAPL[['daily_return']])\n",
    "AAPL_beta = lr.coef_\n",
    "print(AAPL_beta[0][0])"
   ]
  },
  {
   "cell_type": "markdown",
   "id": "f0850668-2e10-48d2-bf2b-46bb78b189ac",
   "metadata": {},
   "source": [
    "### Question 4"
   ]
  },
  {
   "cell_type": "code",
   "execution_count": 66,
   "id": "e522ab0e",
   "metadata": {},
   "outputs": [],
   "source": [
    "historical_AAPL = AAPL.iloc[:100]\n",
    "future_AAPL = AAPL.iloc[100:]\n",
    "historical_JPM = JPM.iloc[:100]\n",
    "future_JPM = JPM.iloc[100:]"
   ]
  },
  {
   "cell_type": "code",
   "execution_count": 87,
   "id": "e2a96d87",
   "metadata": {},
   "outputs": [
    {
     "name": "stdout",
     "output_type": "stream",
     "text": [
      "AAPL historical mean return: 0.0011608157696045784\n",
      "AAPL historical standard deviation: 0.010529462225336909\n",
      "JPM historical mean return: 0.0021566495843565936\n",
      "JPM historical standard deviation: 0.009369720178763714\n"
     ]
    }
   ],
   "source": [
    "AAPL_mean_ret_hist = historical_AAPL['daily_return'].mean()\n",
    "AAPL_std_ret_hist = historical_AAPL['daily_return'].std()\n",
    "JPM_mean_ret_hist = historical_JPM['daily_return'].mean()\n",
    "JPM_std_ret_hist = historical_JPM['daily_return'].std()\n",
    "\n",
    "print(f\"AAPL historical mean return: {AAPL_mean_ret_hist}\")\n",
    "print(f\"AAPL historical standard deviation: {AAPL_std_ret_hist}\")\n",
    "print(f\"JPM historical mean return: {JPM_mean_ret_hist}\")\n",
    "print(f\"JPM historical standard deviation: {JPM_std_ret_hist}\")"
   ]
  },
  {
   "cell_type": "markdown",
   "id": "0d66d21d-8e93-41c1-a2e0-455c6adb11b3",
   "metadata": {},
   "source": [
    "### Question 5"
   ]
  },
  {
   "cell_type": "code",
   "execution_count": 89,
   "id": "82a2ce97",
   "metadata": {},
   "outputs": [],
   "source": [
    "corrcoef_AAPL_JPM_hist = np.corrcoef(historical_AAPL['daily_return'], historical_JPM['daily_return'])[0][1]"
   ]
  },
  {
   "cell_type": "code",
   "execution_count": 91,
   "id": "77afcd94",
   "metadata": {},
   "outputs": [
    {
     "name": "stdout",
     "output_type": "stream",
     "text": [
      "The correlation between the historical returns of JPM and AAPL is: 0.04787406654657155\n"
     ]
    }
   ],
   "source": [
    "print(f\"The correlation between the historical returns of JPM and AAPL is: {corrcoef_AAPL_JPM_hist}\")"
   ]
  },
  {
   "cell_type": "markdown",
   "id": "5f5e0c1b-1f19-4771-9f51-76988ee531c6",
   "metadata": {},
   "source": [
    "### Question 6"
   ]
  },
  {
   "cell_type": "code",
   "execution_count": 100,
   "id": "092a6ace",
   "metadata": {},
   "outputs": [],
   "source": [
    "import math \n",
    "AAPL_mean_ret_future = future_AAPL['daily_return'].mean()\n",
    "AAPL_std_ret_future = future_AAPL['daily_return'].std()\n",
    "JPM_mean_ret_future = future_JPM['daily_return'].mean()\n",
    "JPM_std_ret_future = future_JPM['daily_return'].std()\n",
    "corrcoef_AAPL_JPM_future = np.corrcoef(future_AAPL['daily_return'], future_JPM['daily_return'])[0][1]\n",
    "\n",
    "portfolio_returns = []\n",
    "portfolio_stds = []\n",
    "\n",
    "w_values = [0.2, 0.4, 0.6, 0.8]\n",
    "\n",
    "for w in w_values:\n",
    "    portfolio_returns.append(w * AAPL_mean_ret_future + (1-w) * JPM_mean_ret_future)\n",
    "    portfolio_stds.append(math.sqrt((w**2)*(AAPL_std_ret_future**2)+((1-w)**2)*(JPM_std_ret_future**2)+2*w*(1-w)*corrcoef_AAPL_JPM_future*AAPL_std_ret_future*JPM_std_ret_future))\n",
    "    \n",
    "    "
   ]
  },
  {
   "cell_type": "code",
   "execution_count": 101,
   "id": "a730366d",
   "metadata": {},
   "outputs": [
    {
     "name": "stdout",
     "output_type": "stream",
     "text": [
      "[0.0008760619600941723, 0.0010735763173597437, 0.0012710906746253147, 0.0014686050318908862]\n",
      "[0.018759513433526786, 0.017777265633381945, 0.017816896349480908, 0.018871968912851735]\n"
     ]
    }
   ],
   "source": [
    "print(portfolio_returns)\n",
    "print(portfolio_stds)"
   ]
  },
  {
   "cell_type": "markdown",
   "id": "03f0b542-5cf0-4aad-98e4-ee6a4fbf047c",
   "metadata": {},
   "source": [
    "### Question 7"
   ]
  },
  {
   "cell_type": "code",
   "execution_count": 105,
   "id": "14511ccb",
   "metadata": {},
   "outputs": [],
   "source": [
    "sharpe = np.array(portfolio_returns) / np.array(portfolio_stds)"
   ]
  },
  {
   "cell_type": "code",
   "execution_count": 117,
   "id": "c54066dc",
   "metadata": {},
   "outputs": [],
   "source": [
    "sharpe_dict = dict()\n",
    "\n",
    "for i in range(0,4):\n",
    "    sharpe_dict[w_values[i]] = sharpe[i]"
   ]
  },
  {
   "cell_type": "code",
   "execution_count": 118,
   "id": "b66a3841",
   "metadata": {},
   "outputs": [
    {
     "data": {
      "text/plain": [
       "{0.2: 0.04669960994449272,\n",
       " 0.4: 0.06039040758573098,\n",
       " 0.6: 0.07134186839799109,\n",
       " 0.8: 0.07781938591954611}"
      ]
     },
     "execution_count": 118,
     "metadata": {},
     "output_type": "execute_result"
    }
   ],
   "source": [
    "sharpe_dict"
   ]
  },
  {
   "cell_type": "code",
   "execution_count": null,
   "id": "8fb8f3f1",
   "metadata": {},
   "outputs": [],
   "source": []
  },
  {
   "cell_type": "code",
   "execution_count": null,
   "id": "0bcbab08",
   "metadata": {},
   "outputs": [],
   "source": []
  },
  {
   "cell_type": "code",
   "execution_count": null,
   "id": "110cc9f9",
   "metadata": {},
   "outputs": [],
   "source": []
  },
  {
   "cell_type": "code",
   "execution_count": null,
   "id": "1513ac82",
   "metadata": {},
   "outputs": [],
   "source": []
  },
  {
   "cell_type": "code",
   "execution_count": null,
   "id": "df41d0a2",
   "metadata": {},
   "outputs": [],
   "source": []
  }
 ],
 "metadata": {
  "kernelspec": {
   "display_name": "Python 3 (ipykernel)",
   "language": "python",
   "name": "python3"
  },
  "language_info": {
   "codemirror_mode": {
    "name": "ipython",
    "version": 3
   },
   "file_extension": ".py",
   "mimetype": "text/x-python",
   "name": "python",
   "nbconvert_exporter": "python",
   "pygments_lexer": "ipython3",
   "version": "3.9.13"
  }
 },
 "nbformat": 4,
 "nbformat_minor": 5
}
